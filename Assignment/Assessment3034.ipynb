{
 "cells": [
  {
   "cell_type": "markdown",
   "id": "b2b30bd9",
   "metadata": {},
   "source": [
    "This function computes the **gravitational acceleration** experienced by each body\n",
    "based on the position of the other. It uses Newton's inverse-square law:\n",
    "\n",
    "$$\n",
    "\\vec{F} = -m1*m2\\frac{\\vec{r}}{|\\vec{r}|^3}\n",
    "$$\n",
    "\n",
    "The output consists of two vectors: one for each mass."
   ]
  },
  {
   "cell_type": "code",
   "execution_count": null,
   "id": "12bb24c5",
   "metadata": {},
   "outputs": [],
   "source": [
    "import numpy as np\n",
    "import matplotlib.pyplot as plt\n",
    "\n",
    "\n",
    "def acceleration(r1, r2, m1, m2, G):\n",
    "    \"\"\"Compute gravitational accelerations on m1 and m2\"\"\"\n",
    "    r = r2 - r1\n",
    "    dist = np.linalg.norm(r)\n",
    "    \n",
    "    # Gravitational force vector (Newton's law)\n",
    "    force = G * m1 * m2 * r / dist**3\n",
    "\n",
    "    # Accelerations (a = F / m)\n",
    "    acc1 = +force / m1\n",
    "    acc2 = -force / m2\n",
    "\n",
    "    return acc1, acc2"
   ]
  },
  {
   "cell_type": "markdown",
   "id": "b66ff3ad",
   "metadata": {},
   "source": [
    "This function performs one step of the **Velocity-Verlet algorithm**, updating the\n",
    "positions and velocities of both bodies. It is designed for systems where the\n",
    "acceleration depends only on position (like gravity).\n",
    "\n",
    "Use this function inside a loop to simulate the orbit over time."
   ]
  },
  {
   "cell_type": "code",
   "execution_count": null,
   "id": "40b1c77e",
   "metadata": {},
   "outputs": [],
   "source": [
    "# HINT: Implement this in a loop\n",
    "def velocity_verlet_step(r1, v1, r2, v2, dt):\n",
    "    a1, a2 = acceleration(r1, r2)\n",
    "\n",
    "    r1_new = r1 + v1 * dt + 0.5 * a1 * dt**2\n",
    "    r2_new = r2 + v2 * dt + 0.5 * a2 * dt**2\n",
    "\n",
    "    a1_new, a2_new = acceleration(r1_new, r2_new)\n",
    "\n",
    "    v1_new = v1 + 0.5 * (a1 + a1_new) * dt\n",
    "    v2_new = v2 + 0.5 * (a2 + a2_new) * dt\n",
    "\n",
    "    return r1_new, v1_new, r2_new, v2_new"
   ]
  },
  {
   "cell_type": "markdown",
   "id": "8f5d244c",
   "metadata": {},
   "source": [
    "A standard 4th-order Runge–Kutta integration step for solving ODEs.\n",
    "It requires defining your state vector `u` (e.g., positions and velocities concatenated)\n",
    "and a derivative function `f(u)`.\n",
    "\n",
    "Apply it inside a loop to advance your system in time."
   ]
  },
  {
   "cell_type": "code",
   "execution_count": null,
   "id": "5a5e3761",
   "metadata": {},
   "outputs": [],
   "source": [
    "def rk4_step(f, u, dt):\n",
    "    \"\"\"Generic RK4 solver step\"\"\"\n",
    "    k1 = f(u)\n",
    "    k2 = f(u + 0.5 * dt * k1)\n",
    "    k3 = f(u + 0.5 * dt * k2)\n",
    "    k4 = f(u + dt * k3)\n",
    "    return u + (dt / 6.0) * (k1 + 2*k2 + 2*k3 + k4)\n",
    "\n",
    "# HINT: define u = [r1, v1, r2, v2] flattened into 1D vector\n",
    "# and f(u) to compute du/dt for all state variables"
   ]
  },
  {
   "cell_type": "markdown",
   "id": "f53b7cda",
   "metadata": {},
   "source": [
    "This snippet implements the **Forward Time Centered Space (FTCS)** method\n",
    "for solving the 2D heat diffusion equation numerically.\n",
    "\n",
    "The updated temperature field depends on the four neighbouring grid points\n",
    "and the current temperature at each grid location."
   ]
  },
  {
   "cell_type": "code",
   "execution_count": null,
   "id": "4a4fb359",
   "metadata": {},
   "outputs": [],
   "source": [
    "# Grid setup\n",
    "Nx, Ny = 50, 50\n",
    "T = np.zeros((Nx, Ny))\n",
    "T[25, 25] = 100  # initial condition: hot spot in the middle\n",
    "\n",
    "def ftcs_step(T, kappa, tau, h):\n",
    "    T_new = T.copy()\n",
    "    for j in range(1, Nx-1):\n",
    "        for l in range(1, Ny-1):\n",
    "            T_new[j,l] = T[j,l] + (kappa * tau / h**2) * (\n",
    "                T[j+1,l] + T[j-1,l] + T[j,l+1] + T[j,l-1] - 4 * T[j,l]\n",
    "            )\n",
    "    return T_new"
   ]
  },
  {
   "cell_type": "markdown",
   "id": "bad8056a",
   "metadata": {},
   "source": [
    "#### **Hints:**\n",
    "\n",
    "- When doing von Neumann analysis, assume a Fourier-mode solution and substitute into your FTCS equation. Focus on the exponential growth factor and derive the condition that ensures it stays ≤ 1 in magnitude.\n",
    "- Use `np.linalg.norm` to compute distances.\n",
    "- For phase space, plot one component of position vs. one component of momentum or velocity.\n",
    "- Don’t forget units: you may need to “un-normalise” when computing theoretical values for orbital periods."
   ]
  },
  {
   "cell_type": "markdown",
   "id": "f47211eb",
   "metadata": {},
   "source": []
  },
  {
   "cell_type": "markdown",
   "id": "8adcc609",
   "metadata": {},
   "source": [
    "## Plots"
   ]
  },
  {
   "cell_type": "markdown",
   "id": "e9417958",
   "metadata": {},
   "source": [
    "This snippet sets up two lists, `r1_traj` and `r2_traj`, to store the position vectors of the two bodies over time. These are used later to plot the orbits.\n",
    "\n",
    "The function `total_energy(r1, v1, r2, v2)` calculates the total mechanical energy of the system at any given time step. It includes:\n",
    "\n",
    "- **Kinetic energy** of both masses, using \\(\\frac{1}{2}mv^2\\)\n",
    "- **Potential energy** due to gravity, using \\(-\\frac{G m_1 m_2}{r}\\)\n",
    "\n",
    "This function is useful to monitor **energy conservation** in numerical simulations. Ideally, the total energy should remain nearly constant if the integration scheme is stable and accurate."
   ]
  },
  {
   "cell_type": "code",
   "execution_count": null,
   "id": "5046a4fb",
   "metadata": {},
   "outputs": [],
   "source": [
    "r1_traj, r2_traj = [], []\n",
    "energy = []\n",
    "\n",
    "def total_energy(r1, v1, r2, v2):\n",
    "    \"\"\"Compute total energy of the system\"\"\"\n",
    "    kinetic = 0.5 * m1 * np.linalg.norm(v1)**2 + 0.5 * m2 * np.linalg.norm(v2)**2\n",
    "    potential = - (m1 * m2) / np.linalg.norm(r1 - r2)\n",
    "    return kinetic + potential"
   ]
  },
  {
   "cell_type": "markdown",
   "id": "3b11b0c2",
   "metadata": {},
   "source": [
    "This plotting code displays the temperature field `T` as a heatmap after evolving the system for a number of time steps using the FTCS method.\n",
    "\n",
    "- `plt.imshow` visualises the 2D grid.\n",
    "- The `'hot'` colormap is used to show temperature intensity.\n",
    "- A colorbar is included to indicate the temperature scale.\n",
    "\n",
    "This plot gives a clear visual indication of how the initial heat (e.g. from a central hot spot) diffuses across the grid."
   ]
  },
  {
   "cell_type": "code",
   "execution_count": null,
   "id": "90c597f0",
   "metadata": {},
   "outputs": [],
   "source": [
    "# --- Plotting ---\n",
    "plt.figure(figsize=(6, 5))\n",
    "plt.imshow(T, cmap='hot', origin='lower')\n",
    "plt.colorbar(label='Temperature')\n",
    "plt.title(f'2D Heat Diffusion after {n_steps} steps')\n",
    "plt.xlabel('x')\n",
    "plt.ylabel('y')\n",
    "plt.show()"
   ]
  },
  {
   "cell_type": "markdown",
   "id": "7cec487e",
   "metadata": {},
   "source": []
  }
 ],
 "metadata": {
  "kernelspec": {
   "display_name": "CompPhys",
   "language": "python",
   "name": "python3"
  },
  "language_info": {
   "codemirror_mode": {
    "name": "ipython",
    "version": 3
   },
   "file_extension": ".py",
   "mimetype": "text/x-python",
   "name": "python",
   "nbconvert_exporter": "python",
   "pygments_lexer": "ipython3",
   "version": "3.12.9"
  }
 },
 "nbformat": 4,
 "nbformat_minor": 5
}
