{
 "cells": [
  {
   "cell_type": "code",
   "execution_count": 1,
   "id": "0fa23bca",
   "metadata": {},
   "outputs": [],
   "source": [
    "import numpy as np\n",
    "import matplotlib.pyplot as plt"
   ]
  },
  {
   "cell_type": "markdown",
   "id": "f6f4cec9",
   "metadata": {},
   "source": [
    "# A. Two-Body Problem\n"
   ]
  },
  {
   "cell_type": "code",
   "execution_count": 8,
   "id": "569e7a07",
   "metadata": {},
   "outputs": [],
   "source": [
    "def acceleration(r1, r2, m1, m2, G):\n",
    "    \"\"\"\n",
    "    Compute gravitational accelerations on m1 and m2 using Newton's law.\n",
    "    \"\"\"\n",
    "    r = r2 - r1\n",
    "    dist = np.linalg.norm(r)\n",
    "    force = G * m1 * m2 * r / dist**3  # Newton's law: F = G * m1 * m2 / r^2 in vector form\n",
    "\n",
    "    acc1 = +force / m1  # a = F / m\n",
    "    acc2 = -force / m2  # equal and opposite\n",
    "\n",
    "    return acc1, acc2"
   ]
  },
  {
   "cell_type": "code",
   "execution_count": 9,
   "id": "0e256f66",
   "metadata": {},
   "outputs": [],
   "source": [
    "def velocity_verlet_adaptive_step(r1, v1, r2, v2, m1, m2, G, tau_0):\n",
    "    \"\"\"\n",
    "    Perform one adaptive step of the Velocity-Verlet integration.\n",
    "    Returns new r1, v1, r2, v2, and the adaptive time step tau_n.\n",
    "    \"\"\"\n",
    "    # Compute current acceleration\n",
    "    a1, a2 = acceleration(r1, r2, m1, m2, G)\n",
    "\n",
    "    # Compute adaptive time step based on acceleration magnitude\n",
    "    acc_magnitude = np.linalg.norm(a1) + np.linalg.norm(a2)\n",
    "    tau_n = tau_0 / (1 + acc_magnitude)\n",
    "\n",
    "    # First half of the Velocity-Verlet step\n",
    "    r1_new = r1 + v1 * tau_n + 0.5 * a1 * tau_n**2\n",
    "    r2_new = r2 + v2 * tau_n + 0.5 * a2 * tau_n**2\n",
    "\n",
    "    # Compute new acceleration\n",
    "    a1_new, a2_new = acceleration(r1_new, r2_new, m1, m2, G)\n",
    "\n",
    "    # Second half of the Velocity-Verlet step\n",
    "    v1_new = v1 + 0.5 * (a1 + a1_new) * tau_n\n",
    "    v2_new = v2 + 0.5 * (a2 + a2_new) * tau_n\n",
    "\n",
    "    return r1_new, v1_new, r2_new, v2_new, tau_n"
   ]
  },
  {
   "cell_type": "markdown",
   "id": "3d561ba8",
   "metadata": {
    "vscode": {
     "languageId": "latex"
    }
   },
   "source": [
    "## Question A1: Velocity Verlet and Stability Analysis\n",
    "i. The equations that descrive the two-body motion under Newtonian gravity. Note that $\\mathbf{r} = \\mathbf{r_2} - \\mathbf{r_1}$\n",
    "\n",
    "\\begin{equation}\n",
    "    \\mathbf{F}_1 = Gm_1m_2 \\frac{\\mathbf{r}}{r^3}\n",
    "\\end{equation}\n",
    "\n",
    "\\begin{equation}\n",
    "    \\mathbf{F}_2 = -Gm_1m_2 \\frac{\\mathbf{r}}{r^3}\n",
    "\\end{equation}\n",
    "\n",
    "So:\n",
    "\\begin{equation}\n",
    "    \\mathbf{a}_1 = Gm_2 \\frac{\\mathbf{r}}{r^3}\n",
    "\\end{equation}\n",
    "\n",
    "\\begin{equation}\n",
    "    \\mathbf{a}_2 = -Gm_1 \\frac{\\mathbf{r}}{r^3}\n",
    "\\end{equation}\n",
    "\n",
    "The velocity verlet method is,\n",
    "\n",
    "\\begin{equation}\n",
    "    \\mathbf{r}_{i,n+1} = \\mathbf{r}_{i,n} + \\tau \\mathbf{v}_{i,n} + \\frac{1}{2} \\tau^2 \\mathbf{a}_{i,n}\n",
    "\\end{equation}\n",
    "\n",
    "\\begin{equation}\n",
    "    \\mathbf{v}_{i,n+1} = \\mathbf{v}_{i,n} + \\frac{1}{2} \\tau (\\mathbf{a}_{i,n} + \\mathbf{a}_{i,n+1})\n",
    "\\end{equation}"
   ]
  },
  {
   "cell_type": "code",
   "execution_count": null,
   "id": "e7008c6b",
   "metadata": {},
   "outputs": [],
   "source": [
    "tau_0 = 0.05\n",
    "T = 7\n",
    "numSteps = int(np.ceil(T/tau_0))\n",
    "\n",
    "a = 0.5\n",
    "# assuming a is normalised mass ratio\n",
    "m1 = a\n",
    "m2 = 1 - a\n",
    "r1 = np.array([1, 0])\n",
    "v1 = np.array([0, 2 - np.sqrt(3)])\n",
    "r2 = -m1/m2 * r1 # so centre of mass is at (0, 0)\n",
    "v2 = -m1/m2 * v1\n",
    "\n",
    "r1s = []\n",
    "r2s = \n",
    "\n",
    "for n in range(numSteps):\n",
    "\n"
   ]
  }
 ],
 "metadata": {
  "kernelspec": {
   "display_name": "Python 3",
   "language": "python",
   "name": "python3"
  },
  "language_info": {
   "codemirror_mode": {
    "name": "ipython",
    "version": 3
   },
   "file_extension": ".py",
   "mimetype": "text/x-python",
   "name": "python",
   "nbconvert_exporter": "python",
   "pygments_lexer": "ipython3",
   "version": "3.10.11"
  }
 },
 "nbformat": 4,
 "nbformat_minor": 5
}
