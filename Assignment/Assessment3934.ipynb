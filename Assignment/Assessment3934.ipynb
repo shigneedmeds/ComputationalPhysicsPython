{
 "cells": [
  {
   "cell_type": "markdown",
   "id": "72cf8ad7",
   "metadata": {},
   "source": [
    "#### **Computes the gravitational accelerations on two bodies due to their mutual attraction using Newton’s law of universal gravitation.**\n",
    "It returns acc1 and acc2 as vectors representing the acceleration of each mass.\n",
    "This function is essential for integrating the equations of motion."
   ]
  },
  {
   "cell_type": "code",
   "execution_count": null,
   "id": "59e0a09a",
   "metadata": {},
   "outputs": [],
   "source": [
    "def acceleration(r1, r2, m1, m2, G):\n",
    "    \"\"\"\n",
    "    Compute gravitational accelerations on m1 and m2 using Newton's law.\n",
    "    \"\"\"\n",
    "    r = r2 - r1\n",
    "    dist = np.linalg.norm(r)\n",
    "    force = G * m1 * m2 * r / dist**3  # Newton's law: F = G * m1 * m2 / r^2 in vector form\n",
    "\n",
    "    acc1 = +force / m1  # a = F / m\n",
    "    acc2 = -force / m2  # equal and opposite\n",
    "\n",
    "    return acc1, acc2"
   ]
  },
  {
   "cell_type": "markdown",
   "id": "76396aad",
   "metadata": {},
   "source": [
    "### **Performs a single step of the adaptive Velocity-Verlet integration.**\n",
    "Uses a time step that adjusts dynamically according to the total magnitude of the acceleration, making it more stable during high-acceleration phases (e.g., near pericenter).\n",
    "Returns updated positions, velocities, and the adaptive time step."
   ]
  },
  {
   "cell_type": "code",
   "execution_count": null,
   "id": "cfd610d9",
   "metadata": {},
   "outputs": [],
   "source": [
    "def velocity_verlet_adaptive_step(r1, v1, r2, v2, m1, m2, G, tau_0):\n",
    "    \"\"\"\n",
    "    Perform one adaptive step of the Velocity-Verlet integration.\n",
    "    Returns new r1, v1, r2, v2, and the adaptive time step tau_n.\n",
    "    \"\"\"\n",
    "    # Compute current acceleration\n",
    "    a1, a2 = acceleration(r1, r2, m1, m2, G)\n",
    "\n",
    "    # Compute adaptive time step based on acceleration magnitude\n",
    "    acc_magnitude = np.linalg.norm(a1) + np.linalg.norm(a2)\n",
    "    tau_n = tau_0 / (1 + acc_magnitude)\n",
    "\n",
    "    # First half of the Velocity-Verlet step\n",
    "    r1_new = r1 + v1 * tau_n + 0.5 * a1 * tau_n**2\n",
    "    r2_new = r2 + v2 * tau_n + 0.5 * a2 * tau_n**2\n",
    "\n",
    "    # Compute new acceleration\n",
    "    a1_new, a2_new = acceleration(r1_new, r2_new, m1, m2, G)\n",
    "\n",
    "    # Second half of the Velocity-Verlet step\n",
    "    v1_new = v1 + 0.5 * (a1 + a1_new) * tau_n\n",
    "    v2_new = v2 + 0.5 * (a2 + a2_new) * tau_n\n",
    "\n",
    "    return r1_new, v1_new, r2_new, v2_new, tau_n"
   ]
  },
  {
   "cell_type": "markdown",
   "id": "d2516125",
   "metadata": {},
   "source": [
    "### **Executes one time step of the Symplectic Euler method — a first-order symplectic integrator.**\n",
    "Updates velocities first using current accelerations, then uses the new velocities to update positions.\n",
    "It is more stable for long-term orbital simulations than the standard Euler method."
   ]
  },
  {
   "cell_type": "code",
   "execution_count": null,
   "id": "e2c345e2",
   "metadata": {},
   "outputs": [],
   "source": [
    "def symplectic_euler_step(r1, v1, r2, v2, m1, m2, G, dt):\n",
    "    \"\"\"\n",
    "    Perform one step of the Symplectic Euler method for two-body motion.\n",
    "    Update velocities first, then positions.\n",
    "    \"\"\"\n",
    "    # Compute acceleration at current positions\n",
    "    a1, a2 = acceleration(r1, r2, m1, m2, G)\n",
    "\n",
    "    # Update velocities\n",
    "    v1_new = v1 + dt * a1\n",
    "    v2_new = v2 + dt * a2\n",
    "\n",
    "    # Update positions using updated velocities\n",
    "    r1_new = r1 + dt * v1_new\n",
    "    r2_new = r2 + dt * v2_new\n",
    "\n",
    "    return r1_new, v1_new, r2_new, v2_new"
   ]
  },
  {
   "cell_type": "markdown",
   "id": "4fda74e8",
   "metadata": {},
   "source": [
    "### **Initialises the positions and velocities for a two-body system with a small velocity perturbation applied to mass 1.**\n",
    "Useful for testing sensitivity to initial conditions, such as divergence in chaotic or near-resonant systems."
   ]
  },
  {
   "cell_type": "code",
   "execution_count": null,
   "id": "d30b5424",
   "metadata": {},
   "outputs": [],
   "source": [
    "def initialize_perturbed_velocity_verlet(a=0.5, delta_v=np.array([0.0, 0.01])):\n",
    "    \"\"\"\n",
    "    Set up initial conditions for a perturbed two-body system.\n",
    "    delta_v: small perturbation added to velocity of mass 1\n",
    "    \"\"\"\n",
    "    m1 = a\n",
    "    m2 = 1 - a\n",
    "\n",
    "    r1 = np.array([1.0, 0.0])\n",
    "    v1 = np.array([0.0, 2 - np.sqrt(3)]) + delta_v\n",
    "\n",
    "    r2 = - (m1 / m2) * r1\n",
    "    v2 = - (m1 / m2) * v1\n",
    "\n",
    "    return r1, v1, r2, v2, m1, m2"
   ]
  },
  {
   "cell_type": "markdown",
   "id": "2164a215",
   "metadata": {},
   "source": [
    "### **Sets up the initial conditions for a symplectic Euler simulation, with a small position perturbation added to body 1.**\n",
    "Useful for studying stability and divergence in phase space when using a symplectic integrator."
   ]
  },
  {
   "cell_type": "code",
   "execution_count": null,
   "id": "2126a4e8",
   "metadata": {},
   "outputs": [],
   "source": [
    "def initialize_perturbed_symplectic_euler(a=0.5, delta_r=np.array([0.005, 0.0])):\n",
    "    \"\"\"\n",
    "    Initialise perturbed positions for Symplectic Euler method.\n",
    "    \"\"\"\n",
    "    m1 = a\n",
    "    m2 = 1 - a\n",
    "\n",
    "    r1 = np.array([1.0, 0.0]) + delta_r\n",
    "    v1 = np.array([0.0, 2 - np.sqrt(3)])\n",
    "\n",
    "    r2 = - (m1 / m2) * r1\n",
    "    v2 = - (m1 / m2) * v1\n",
    "\n",
    "    return r1, v1, r2, v2, m1, m2"
   ]
  },
  {
   "cell_type": "markdown",
   "id": "6c7aac7a",
   "metadata": {},
   "source": [
    "### **Implements the anisotropic 2D FTCS (Forward-Time Central-Space) scheme for the heat equation.**\n",
    "Supports different thermal conductivities in the x and y directions ($\\kappa_x$, $\\kappa_y$).\n",
    "Used to simulate anisotropic heat flow where diffusion is direction-dependent."
   ]
  },
  {
   "cell_type": "code",
   "execution_count": null,
   "id": "6adce1ad",
   "metadata": {},
   "outputs": [],
   "source": [
    "def ftcs_anisotropic(T, kappa_x, kappa_y, tau, h):\n",
    "    \"\"\"\n",
    "    Perform one time step of the anisotropic FTCS scheme for 2D diffusion.\n",
    "    \"\"\"\n",
    "    Nx, Ny = T.shape\n",
    "    T_new = T.copy()\n",
    "    \n",
    "    for i in range(1, Nx - 1):\n",
    "        for j in range(1, Ny - 1):\n",
    "            T_new[i, j] = T[i, j] + tau * (\n",
    "                kappa_x * (T[i+1, j] + T[i-1, j] - 2*T[i, j]) / h**2 +\n",
    "                kappa_y * (T[i, j+1] + T[i, j-1] - 2*T[i, j]) / h**2\n",
    "            )\n",
    "\n",
    "    return T_new"
   ]
  },
  {
   "cell_type": "markdown",
   "id": "5e36579f",
   "metadata": {},
   "source": [
    "### **Heatmap Plot of Temperature Field**"
   ]
  },
  {
   "cell_type": "code",
   "execution_count": null,
   "id": "e4ab1b4b",
   "metadata": {},
   "outputs": [],
   "source": [
    "plt.figure(figsize=(6, 5))\n",
    "plt.imshow(T, cmap='hot', origin='lower')\n",
    "plt.colorbar(label='Temperature')\n",
    "plt.title(f'Anisotropic Heat Diffusion after {n_steps} steps')\n",
    "plt.xlabel('x')\n",
    "plt.ylabel('y')\n",
    "plt.show()"
   ]
  }
 ],
 "metadata": {
  "kernelspec": {
   "display_name": "CompPhys",
   "language": "python",
   "name": "python3"
  },
  "language_info": {
   "codemirror_mode": {
    "name": "ipython",
    "version": 3
   },
   "file_extension": ".py",
   "mimetype": "text/x-python",
   "name": "python",
   "nbconvert_exporter": "python",
   "pygments_lexer": "ipython3",
   "version": "3.12.9"
  }
 },
 "nbformat": 4,
 "nbformat_minor": 5
}
