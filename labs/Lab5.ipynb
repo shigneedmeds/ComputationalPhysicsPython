{
 "cells": [
  {
   "cell_type": "markdown",
   "id": "92a33f42",
   "metadata": {},
   "source": [
    "# Lab 5 Solutions"
   ]
  },
  {
   "cell_type": "code",
   "execution_count": 1,
   "id": "b0e238f6",
   "metadata": {},
   "outputs": [],
   "source": [
    "import numpy as np\n",
    "import matplotlib.pyplot as plt"
   ]
  },
  {
   "cell_type": "markdown",
   "id": "655c0b74",
   "metadata": {},
   "source": [
    "# Stability of the FTCS and Lax methods for 1-D advection"
   ]
  },
  {
   "cell_type": "markdown",
   "id": "2f0172f5",
   "metadata": {},
   "source": [
    "## <span style=\"color:red\">Q1</span>\n",
    "\n",
    "<p>For the FTCS method, show that the magnitude \\[|\\xi| = \\sqrt{1 + g^2\\sin^2(kh)}\\,.\\]</p>\n",
    "<p>From this expression, which of the following explains why \\(|\\xi |_{\\rm max} = \\sqrt{1+g^2}\\) for FTCS.</p>\n",
    "<p>&nbsp;</p>"
   ]
  },
  {
   "cell_type": "markdown",
   "id": "15714169",
   "metadata": {},
   "source": [
    "## <span style=\"color:red\">Q2</span>\n",
    "\n",
    "<p>In this question we aim to understand the instability of the FTCS method by investigating the <strong>spectral radius</strong>, \\(\\rho\\), and <strong>amplification factor</strong>, \\(\\xi\\), at different values of \\(\\tau\\).</p>\n",
    "<p>Modify the FTCS code so that it loops over 25 values of \\(\\tau\\) in the range \\(10^{-3}\\) to \\(10^{-1}\\) that are equally spaced logarithmically. You can generate a vector of suitable values using the <strong>logspace</strong> function as follows:</p>\n",
    "<pre> # Time step values - equally spaced in log\n",
    "numTau = 25\n",
    "tauVals = np.logspace(-3,-1,numTau)\n",
    "</pre>\n",
    "<p>Use \\(c=1\\) and \\(h=0.01\\). In your code, calculate the values of \\(g = c\\tau/h\\) that these choices of \\(\\tau\\) imply. For each value of \\(g\\), compute the spectral radius, \\(\\rho\\), of the update matrix for the FTCS scheme, i.e., the absolute value of the dominant eigenvalue of the matrix, \\(|\\lambda_\\mathrm{dom}|\\).</p>\n",
    "<p><em>Note:</em> We are analyzing the properties of the update matrix at different values of \\(\\tau\\) so it's not necessary to compute/plot the evolution of the pulse.</p>\n",
    "<p>Have your code plot \\(\\rho-1\\) as a function of \\(g\\), with logarithmic scaling on the horizontal axis (using <strong>semilogx</strong> rather than <strong>plot</strong>).  /></p>\n",
    "<p>Calculate and display \\(|\\xi |_{\\rm max}-1\\) as a function of \\(g\\) on the same plot.</p>\n",
    "<p>To clearly visualize any the overlap, your plot should use markers for \\(\\rho -1\\) and a line for \\(\\xi\\).</p>\n"
   ]
  },
  {
   "cell_type": "markdown",
   "id": "20787b11",
   "metadata": {},
   "source": [
    "## <span style=\"color:red\">Q3</span>\n",
    "\n",
    "<p>From your results, think about the stability of the FTCS scheme and the relationship between \\(|\\xi|_\\mathrm{max}\\) and \\(\\rho\\).</p>\n"
   ]
  },
  {
   "cell_type": "markdown",
   "id": "1ef78e4e",
   "metadata": {},
   "source": [
    "## <span style=\"color:red\">Q4</span>\n",
    "\n",
    "<p>Derive an expression for \\(|\\xi|\\) for the Lax Method in terms of \\(g\\) and \\(\\sin^2(kh)\\).</p>\n",
    "<p>From this expression, and by considering the minimum and maximum values of \\(\\sin^2(kh)\\), show that \\(|\\xi |_{\\rm max}\\) takes a different form for the two cases: \\(g\\leq 1\\), and \\(g&gt;1\\) as follows:</p>\n",
    "<p>\\[|\\xi |_{\\rm max}=1\\quad\\text{if}\\quad g\\leq 1,\\] and \\[|\\xi |_{\\rm max}=g\\quad\\text{for}\\quad&nbsp; g&gt;1\\,.\\]</p>\n",
    "\n"
   ]
  },
  {
   "cell_type": "markdown",
   "id": "cede839b",
   "metadata": {},
   "source": [
    "## <span style=\"color:red\">Q5</span>\n",
    "\n",
    "<p>Repeat the procedure in Question 2 for the Lax method, and produce the corresponding diagram of \\(\\rho-1\\) versus \\(g,\\) and of \\(|\\xi |_{\\rm max}-1\\) versus \\(g\\) (on a single plot).</p>\n",
    "<p>Again, make sure \\(\\rho -1\\) is plotted with markers and \\(\\xi\\) is plotted as a line so that any overlap is clear.</p>\n",
    "<p>&nbsp;</p>"
   ]
  },
  {
   "cell_type": "markdown",
   "id": "dcb32381",
   "metadata": {},
   "source": [
    "## <span style=\"color:red\">Q6</span>\n",
    "\n",
    "<p>From your results, think about the stability of the Lax scheme and the relationship between \\(|\\xi|_\\mathrm{max}\\) and \\(\\rho\\).</p>\n"
   ]
  },
  {
   "cell_type": "markdown",
   "id": "6fe7832b",
   "metadata": {},
   "source": [
    "## Time-Reversed Diffusion\n"
   ]
  },
  {
   "cell_type": "markdown",
   "id": "0d2b65b8",
   "metadata": {},
   "source": [
    "## <span style=\"color:red\">Q7</span>\n",
    "\n",
    "<p>Which of the following corresponds to the FTCS scheme for the time-reversed diffusion problem (where \\(f=\\kappa\\tau/h^2\\)).</p>"
   ]
  },
  {
   "cell_type": "markdown",
   "id": "e85441ba",
   "metadata": {},
   "source": [
    "## <span style=\"color:red\">Q8</span>\n",
    "\n",
    "Apply von Neumann stability analysis to determine the stability of the FTCS scheme for time-reversed diffusion.\n",
    "\n",
    "\n",
    "\n",
    "Which of the following is a correct statement about the stability?"
   ]
  },
  {
   "cell_type": "markdown",
   "id": "330f40cc",
   "metadata": {},
   "source": [
    "## <span style=\"color:red\">Q9</span>\n",
    "\n",
    "<p>Consider analytically how a peak in a temperature profile&nbsp;(a region where \\(T(x,t)\\) has a maximum, and \\(\\partial^2 T/\\partial x^2&lt;0\\)) evolves in time, according to the 1-D diffusion equation, and how it evolves in time according to the 1-D time-reversed diffusion equation.</p>\n",
    "<p>Based on this, consider the situation that a small amount of noise is added to a constant temperature profile, and the system then evolves in time according to the time-reversed diffusion equation.</p>\n"
   ]
  }
 ],
 "metadata": {
  "kernelspec": {
   "display_name": "Python 3 (ipykernel)",
   "language": "python",
   "name": "python3"
  },
  "language_info": {
   "codemirror_mode": {
    "name": "ipython",
    "version": 3
   },
   "file_extension": ".py",
   "mimetype": "text/x-python",
   "name": "python",
   "nbconvert_exporter": "python",
   "pygments_lexer": "ipython3",
   "version": "3.10.9"
  }
 },
 "nbformat": 4,
 "nbformat_minor": 5
}
