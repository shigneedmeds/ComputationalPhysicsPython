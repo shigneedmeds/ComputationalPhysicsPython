{
 "cells": [
  {
   "cell_type": "markdown",
   "id": "8f90eae1",
   "metadata": {},
   "source": [
    "# Lab 4 Solutions"
   ]
  },
  {
   "cell_type": "code",
   "execution_count": 1,
   "id": "05c27742",
   "metadata": {},
   "outputs": [],
   "source": [
    "import numpy as np\n",
    "import matplotlib.pyplot as plt\n",
    "import matplotlib.animation as animation"
   ]
  },
  {
   "cell_type": "markdown",
   "id": "e36fe4a1",
   "metadata": {},
   "source": [
    "# The stability of the FTCS method applied to 1-D diffusion"
   ]
  },
  {
   "cell_type": "markdown",
   "id": "80491a87",
   "metadata": {},
   "source": [
    "## <span style=\"color:red\">Q1</span>\n",
    "# Modifications to diffusion_ftcs code\n",
    "\n",
    "Make the following modifications to the function diffusion_ftcs:\n",
    "\n",
    "Choose a value of $f = \\kappa\\tau/h^2$, and then use this to calculate the time step $\\tau$ for the values $h=0.05$ and $\\kappa=1$, and march forward for 20 time steps.\n",
    "\n",
    "Write code to just plot the difference between the numerical temperature profile and the analytic temperature profile at each time step, so you will need to plot something like `temp_numeric[i,:]-temp_an_array[i, :]` vs `x` this time.\n",
    "\n",
    "To focus on the difference, you should remove the other plots.\n",
    "\n",
    "Set the axis to a fixed vertical range, e.g., after each update: `ax.set(xlim=[0,1], ylim=[-5,5])`.\n",
    "\n",
    "The code should display different behavior in each of the following values/ranges for $f$:\n",
    "- $0 < f < 0.25$\n",
    "- $0.25 < f < 0.5$\n",
    "- $f = 0.5$\n",
    "- $f > 0.5$\n",
    "\n",
    "In each case study the behavior of the numerical solution.\n",
    "\n",
    "Consider the following values of $f$ in the ranges above. Match each value of $f$ to the best description of the resulting numerical solution:\n",
    "\n",
    "`f=0.2`, `f=0.45`, `f=0.5`, `f=0.6`"
   ]
  },
  {
   "cell_type": "markdown",
   "id": "e22a49e7",
   "metadata": {},
   "source": [
    "## <span style=\"color:red\">Q2</span>\n",
    "\n",
    "As explained in lectures, the stability of the method is dependent on the eigenvalues of the update matrix $\\mathrm{A}$, which are defined by the discretization and by the boundary conditions.\n",
    "\n",
    "Write new code to do the following:\n",
    "\n",
    "For each value of $f$ from 0 to 1 in steps of $0.05$, calculate the update matrix $\\mathrm{A}$. *You already have the code to do this within `diffusion_ftcs`]*\n",
    "\n",
    "For each $f$ value, use the `numpy` function, `linalg.eigvals()` (and the `max()` and `min()` functions) to calculate the following three quantities:\n",
    "- The maximum eigenvalue, $\\lambda_{\\rm max}$, of $\\mathrm{A}$;\n",
    "- The minimum eigenvalue, $\\lambda_{\\rm min}$, of $\\mathrm{A}$;\n",
    "- The magnitude of the dominant eigenvalue, $|\\lambda_{\\rm dom}|$, (the eigenvalue with the largest magnitude).\n",
    "\n",
    "Plot $\\lambda_{\\rm min}$, $\\lambda_{\\rm max}$, and $|\\lambda_{\\rm dom}|$ as functions of $f$, on one graph, clearly showing individual plotting points using markers (and connecting points using a line).\n",
    "\n",
    "Produce a single plot with your results, and upload an image of your plot (as a .png or .jpg file)."
   ]
  },
  {
   "cell_type": "markdown",
   "id": "26aa28e7",
   "metadata": {},
   "source": [
    "## <span style=\"color:red\">Q3</span>\n",
    "\n",
    "<p>As a way to understand the four types of behavior identified in Question 1, we can consider power iteration applied to the initial temperature profile, \\({\\bf T}^{[0]}\\), in terms of an expansion in the eigenvectors of the update matrix, \\(\\mathrm{A}\\):</p>\n",
    "<p>\\({\\bf T}^{[0]} = \\sum_{i=1}^L C_i{\\bf T}^{(i)}\\), for constants \\(C_i\\) and where \\({\\bf T}^{(i)}\\) are the eigenvectors of \\(\\mathrm{A}\\).</p>\n",
    "<p>Then, after \\(m\\) power iterations, \\({\\bf T}^{[m]} = \\mathrm{A}^{m}{\\bf T}^{[0]} = \\sum_{i=1}^{L}C_i\\lambda_i^m{\\bf T}^{(i)}\\), where \\({\\bf T}^{[j]}\\) is the temperature profile at iteration \\(j\\).</p>\n",
    "<p>Categorize the numerical behavior of the FTCS numerical scheme across the four relevant ranges of \\(f\\), and the corresponding conditions on the set of eigenvalues, \\(\\lambda_i\\).</p>"
   ]
  },
  {
   "cell_type": "markdown",
   "id": "17229e8b",
   "metadata": {},
   "source": [
    "## <span style=\"color:red\">Q4</span>\n",
    "\n",
    "<p>For each of the four categories above, briefly explain why each range of \\(\\lambda_i\\) yields each qualitative type of algorithmic behavior.</p>"
   ]
  },
  {
   "cell_type": "markdown",
   "id": "0c3b614d",
   "metadata": {},
   "source": [
    "## <span style=\"color:red\">Q5</span>\n",
    "\n",
    "<p>The update matrix, \\(\\mathrm{A}\\), for the FTCS scheme for 1-D diffusion with Dirichlet boundary conditions is given by</p>\n",
    "<p>&nbsp;</p>\n",
    "<p><img style=\"display: block; margin-left: auto; margin-right: auto;\" src=\"https://quiz-api-production-s3-uploads-4mqunb7g4o7t.s3.ap-southeast-2.amazonaws.com/item_media/d1c558c5-d73b-4635-b0b0-780a8e6e4c7a/e6494c67-77cd-4ac5-bb84-b5339fdfeff8\" alt=\"\" width=\"419\" height=\"168\" /></p>\n",
    "<p>&nbsp;</p>\n",
    "<p>The top row and bottom rows in the \\(L\\times L\\) update matrix impose which of the following conditions?</p>"
   ]
  },
  {
   "cell_type": "markdown",
   "id": "3b77aaa4",
   "metadata": {},
   "source": [
    "## <span style=\"color:red\">Q6</span>\n",
    "\n",
    "<p>Consider solving the different IVP described.<br /><br />In modifying <code>diffusion_ftcs</code> to solve this new problem, is it necessary to change the update matrix?</p>"
   ]
  },
  {
   "cell_type": "markdown",
   "id": "6c0cce94",
   "metadata": {},
   "source": [
    "## <span style=\"color:red\">Q7</span>\n",
    "\n",
    "<p>Modify <code>diffusion_ftcs</code> to solve the new IVP.</p>\n",
    "<p>Use a spatial step \\(h=0.05\\), a thermal conductivity \\(\\kappa=5,\\) and a time step \\(\\tau\\) chosen so that \\(f = \\kappa\\tau/h^2 = 0.25\\).</p>\n",
    "<p>Run the code for a large number of time steps (say 1000), until an approximate <em>equilibrium</em> is reached (i.e., the temperature profile is not changing substantially).</p>\n",
    "<p>(If you're having computational issues, you may speed up the calculation by reducing the frequency of plotting the temperature profile less frequently, e.g., once every 10-50 iterations).</p>\n",
    "<p>What is the equilibrium solution?</p>\n"
   ]
  },
  {
   "cell_type": "markdown",
   "id": "7cf3ebac",
   "metadata": {},
   "source": [
    "We can clearly see system approaching an equilibrium, $T(x)$ = 1."
   ]
  },
  {
   "cell_type": "markdown",
   "id": "6fee46e6",
   "metadata": {},
   "source": [
    "## <span style=\"color:red\">Q8</span>\n",
    "\n",
    "<p>Provide an analytic explanation for the equilibrium found numerically in Question 6:</p>\n",
    "<ol>\n",
    "<li>Setting \\(\\partial T/\\partial t = 0\\) in the 1-D diffusion PDE gives a simple ODE describing the equilibrium situation: \\[\\frac{d^2T_{\\rm eq}}{dx^2}=0,\\] where \\(T_{\\rm eq}(x)\\) is the equilibrium temperature profile.</li>\n",
    "<li>By integrating this ODE analytically, and imposing the boundary conditions \\(T(0,t) = T(1,t) = 1\\) for all \\(t\\), obtain an analytic expression for the equilibrium temperature profile.&nbsp;</li>\n",
    "</ol>\n",
    "<p><strong>Briefly summarize your steps..</strong></p>"
   ]
  },
  {
   "cell_type": "markdown",
   "id": "97735805",
   "metadata": {},
   "source": [
    "## <span style=\"color:red\">Q9</span>\n",
    "\n",
    "<p>Consider the case that the temperature profile is again&nbsp;zero initially for \\(0&lt;x&lt;1\\) but the BCs are changed to \\[T(0,t)=0\\quad \\text{and}\\quad T(1,t)=1\\]&nbsp;for all \\(t.\\)</p>\n",
    "<p>&nbsp;</p>\n",
    "<p>Following the same reasoning as Question 7, make a prediction about what the equilibrium solution will look like.</p>\n",
    "<p>&nbsp;</p>\n",
    "<p>Modify the initial conditions from your code from Question 6 and run it to confirm your prediction.<br /><br /><strong>Upload a clear image of your FINAL EQUILIBRIUM TEMPERATURE PROFILE plot.</strong></p>"
   ]
  }
 ],
 "metadata": {
  "kernelspec": {
   "display_name": "Python 3 (ipykernel)",
   "language": "python",
   "name": "python3"
  },
  "language_info": {
   "codemirror_mode": {
    "name": "ipython",
    "version": 3
   },
   "file_extension": ".py",
   "mimetype": "text/x-python",
   "name": "python",
   "nbconvert_exporter": "python",
   "pygments_lexer": "ipython3",
   "version": "3.10.9"
  }
 },
 "nbformat": 4,
 "nbformat_minor": 5
}
