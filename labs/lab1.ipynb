{
 "cells": [
  {
   "cell_type": "markdown",
   "metadata": {
    "vscode": {
     "languageId": "plaintext"
    }
   },
   "source": [
    "# Week 1: Projectile Motion using Euler's Method"
   ]
  },
  {
   "cell_type": "code",
   "execution_count": 2,
   "metadata": {},
   "outputs": [],
   "source": [
    "import numpy as np\n",
    "import matplotlib.pyplot as plt"
   ]
  },
  {
   "cell_type": "markdown",
   "metadata": {},
   "source": [
    "# Euler Method"
   ]
  },
  {
   "cell_type": "code",
   "execution_count": 3,
   "metadata": {},
   "outputs": [],
   "source": [
    "# ---------- Simple projectile motion using Euler's method ---------- #\n",
    "\n",
    "def proj_euler(speed_m, angle, tau, dimTau=False):\n",
    "\n",
    "    ''' This code takes dimensional tau values and\n",
    "    non dimensionalises them using Ts. \n",
    "    dimTau = True means the value provided is dimensional while\n",
    "    dimTau = False means the value provided is non-dimensional '''\n",
    "\n",
    "    # Dimensionalisation parameters\n",
    "    G = 9.8  # Acceleration due to gravity (m/s^2)\n",
    "    Ls = 1  # Choice for scaling length (m)\n",
    "    Ts = np.sqrt(Ls / G)  # Scale for time (s)\n",
    "\n",
    "    if dimTau == True:\n",
    "        tau = tau/Ts # makes tau non dimensional!\n",
    "        \n",
    "    #print(tau * Ts)\n",
    "\n",
    "    # Convert angle to radians\n",
    "    angle = np.radians(angle)\n",
    "\n",
    "    # Non-dimensionalise initial speed\n",
    "    speed = speed_m / (Ls / Ts)\n",
    "\n",
    "    # Row vectors for non-dimensional position and velocity\n",
    "    pos = np.array([0, 0])\n",
    "    vel = speed * np.array([np.cos(angle), np.sin(angle)])\n",
    "\n",
    "    # Store Initial Condition (for plotting):\n",
    "    x, y = [pos[0]], [pos[1]]\n",
    "\n",
    "    # ---- Euler's method ---- #\n",
    "    \n",
    "    while pos[1] >= 0:\n",
    "        \n",
    "        # Compute one step of Euler's method:\n",
    "        # First update position using current velocity\n",
    "        pos = pos + tau * vel\n",
    "        # Then update velocity with gravity\n",
    "        vel = vel + tau * np.array([0, -1])\n",
    "\n",
    "        # Store position for plotting\n",
    "        x.append(pos[0])\n",
    "        y.append(pos[1])\n",
    "\n",
    "    # ---- Estimate Range ---- #\n",
    "\n",
    "    # Linear interpolation to estimate the range of the projectile\n",
    "    coOrdsOver = np.array([x[-2], y[-2]])  # Last point projectile above axis\n",
    "    coOrdsUnder = np.array([x[-1], y[-1]])  # Projectile under ground\n",
    "    range = coOrdsUnder[0] - coOrdsUnder[1] * (coOrdsUnder[0] - coOrdsOver[0]) / (coOrdsUnder[1] - coOrdsOver[1])\n",
    "    range_m = Ls * range  # Convert back to m\n",
    "\n",
    "    # Analytic expression for range\n",
    "    an_range_m = (speed_m**2 * np.sin(2 * angle)) / G\n",
    "\n",
    "    return x, y, range_m, an_range_m\n"
   ]
  },
  {
   "cell_type": "code",
   "execution_count": 4,
   "metadata": {},
   "outputs": [
    {
     "name": "stdout",
     "output_type": "stream",
     "text": [
      "252.4486763106218\n"
     ]
    }
   ],
   "source": [
    "#Q1\n",
    "print(proj_euler(50, 40, 0.1)[2])"
   ]
  },
  {
   "cell_type": "code",
   "execution_count": 5,
   "metadata": {},
   "outputs": [
    {
     "name": "stdout",
     "output_type": "stream",
     "text": [
      "270.24353344797987\n"
     ]
    },
    {
     "data": {
      "text/plain": [
       "np.float64(7.569690416820783)"
      ]
     },
     "execution_count": 5,
     "metadata": {},
     "output_type": "execute_result"
    }
   ],
   "source": [
    "#Q2\n",
    "_, _, range, an_range = proj_euler(50, 40, 0.5, True)\n",
    "print(range)\n",
    "(range - an_range) / an_range * 100"
   ]
  },
  {
   "cell_type": "code",
   "execution_count": 6,
   "metadata": {},
   "outputs": [],
   "source": [
    "def v(t, speed= 100, angle = 45):\n",
    "    angle = np.radians(angle)\n",
    "    if t == 0:\n",
    "        return speed * np.sin(angle), speed*np.cos(angle)\n",
    "    \n",
    "    G = 9.8\n",
    "    \n",
    "    vy = speed * np.sin(angle) - G * t\n",
    "    vx = speed * np.cos(angle)\n",
    "\n",
    "    return (vx, vy)\n",
    "    \n"
   ]
  },
  {
   "cell_type": "code",
   "execution_count": 7,
   "metadata": {},
   "outputs": [],
   "source": [
    "def midpoint_method(f, y0 , t0 , h, speed, angle):\n",
    "    t = t0\n",
    "    y = y0\n",
    "    ts = [t]\n",
    "    ys = [y]\n",
    "    while y[1] >= 0:\n",
    "        k1 = f(t, speed, angle)\n",
    "        k1 = np.array(k1)\n",
    "        k2 = f(t + h/2, speed, angle)\n",
    "        k2 = np.array(k2)\n",
    "        y = y + h * k2\n",
    "        t += h\n",
    "        ts.append(t)\n",
    "        ys.append(y)\n",
    "    \n",
    "    ys= np.array(ys)\n",
    "\n",
    "    return ts , ys"
   ]
  },
  {
   "cell_type": "code",
   "execution_count": 12,
   "metadata": {},
   "outputs": [
    {
     "name": "stdout",
     "output_type": "stream",
     "text": [
      "0.913673867960465\n",
      "0.9136738889348289\n",
      "0.9136788918010695\n",
      "0.9141934150661085\n",
      "0.9723606154868164\n"
     ]
    }
   ],
   "source": [
    "speed = 50\n",
    "angle = 40\n",
    "\n",
    "error = []\n",
    "\n",
    "for tau in [0.0001, 0.001, 0.01, 0.1, 1]:\n",
    "    G = -9.8\n",
    "\n",
    "    Ls = 1  # Choice for scaling length (m)\n",
    "    Ts = np.sqrt(Ls / -G)  # Scale for time (s)\n",
    "    tau = tau*Ts # makes tau non dimensional!\n",
    "\n",
    "    ts, ys = midpoint_method(v, np.array([0, 0]), 0, tau, speed, angle)\n",
    "\n",
    "    x = ys[:, 0]\n",
    "    y = ys[:, 1]\n",
    "\n",
    "    coOrdsOver = np.array([x[-2], y[-2]])  # Last point projectile above axis\n",
    "    coOrdsUnder = np.array([x[-1], y[-1]])  # Projectile under ground\n",
    "    range = coOrdsUnder[0] - coOrdsUnder[1] * (coOrdsUnder[0] - coOrdsOver[0]) / (coOrdsUnder[1] - coOrdsOver[1])\n",
    "    #range_m = Ls * range  # Convert back to m\n",
    "\n",
    "    # Analytic expression for range\n",
    "    an_range = (speed**2 * np.sin(2 * angle)) / G\n",
    "\n",
    "    print(-(range - an_range) / an_range * 100)\n"
   ]
  },
  {
   "cell_type": "code",
   "execution_count": 86,
   "metadata": {},
   "outputs": [
    {
     "data": {
      "text/plain": [
       "[<matplotlib.lines.Line2D at 0x2d023718b50>]"
      ]
     },
     "execution_count": 86,
     "metadata": {},
     "output_type": "execute_result"
    },
    {
     "data": {
      "image/png": "[encoded data removed]",
      "text/plain": [
       "<Figure size 640x480 with 1 Axes>"
      ]
     },
     "metadata": {},
     "output_type": "display_data"
    }
   ],
   "source": [
    "tau = np.linspace(0.001, 1, 1000)\n",
    "tau = [0.001, 0.01, 0.1, 1]\n",
    "perc = []\n",
    "\n",
    "for t in tau:\n",
    "    G = -9.8\n",
    "    speed = 50\n",
    "    angle = 40\n",
    "    ts, ys= midpoint_method(v, np.array([0, 0]), 0, t, speed, angle)\n",
    "    x = ys[:, 0]\n",
    "    y = ys[:, 1]\n",
    "    coOrdsOver = np.array([x[-2], y[-2]])  # Last point projectile above axis\n",
    "    coOrdsUnder = np.array([x[-1], y[-1]])  # Projectile under ground\n",
    "    range = coOrdsUnder[0] - coOrdsUnder[1] * (coOrdsUnder[0] - coOrdsOver[0]) / (coOrdsUnder[1] - coOrdsOver[1])\n",
    "\n",
    "    an_range = (speed**2 * np.sin(2 * angle)) / G\n",
    "    p = (range - an_range)/an_range\n",
    "    perc.append(np.abs(p) * 100)\n",
    "\n",
    "plt.plot(tau, perc)"
   ]
  },
  {
   "cell_type": "markdown",
   "metadata": {},
   "source": [
    "## _Q1 (midpoint method):_\n",
    "### What is the local truncation error in position for the midpoint method?\n",
    "\n"
   ]
  },
  {
   "cell_type": "markdown",
   "metadata": {},
   "source": [
    "The local truncation error is $\\mathcal{O} (h^3)$. The reason its this is because we compute the first derivative at 2 different points, i.e., we are using some form of the second derivative somewhere in our algorithm. "
   ]
  },
  {
   "cell_type": "markdown",
   "metadata": {},
   "source": [
    "## _Q2 (midpoint method):_\n",
    "### What is the percentage error in the range, compared with the exact analytic value?\n",
    "\n",
    "## <span style=\"color:red\">Answer</span>"
   ]
  },
  {
   "cell_type": "markdown",
   "metadata": {},
   "source": [
    "## _Q3 (midpoint method):_\n",
    "### What is the scaling of the absolute percentage error $E$ with $\\tau$?\n",
    "\n"
   ]
  },
  {
   "cell_type": "markdown",
   "metadata": {},
   "source": [
    "## _Q4 (midpoint method):_\n",
    "### Which of the following factors is the dominant source of error you (should have) observed above for the range, $R$?\n",
    "\n"
   ]
  },
  {
   "cell_type": "markdown",
   "metadata": {},
   "source": [
    "## _Q5 (Euler method):_\n",
    "### Determine the range for the Euler's method solution with the non-dimensional time step $\\tau=0.01$.\n",
    "\n"
   ]
  },
  {
   "cell_type": "markdown",
   "metadata": {},
   "source": [
    "## _Q6 (Euler method):_\n",
    "### What is the percentage error in Euler's method?\n",
    "\n"
   ]
  },
  {
   "cell_type": "markdown",
   "metadata": {},
   "source": [
    "## _Q7 (Euler method):_\n",
    "### What is the dominant source of error in our estimate of the range using Euler's method as above?\n",
    "\n"
   ]
  },
  {
   "cell_type": "markdown",
   "metadata": {},
   "source": [
    "## _Q8 (Euler method):_\n",
    "### What dimensional time step (in seconds) does the non-dimensional time step $\\tau=0.1$ correspond to?\n",
    "\n"
   ]
  },
  {
   "cell_type": "markdown",
   "metadata": {},
   "source": [
    "## _Q9 (Euler method):_\n",
    "### Produce a table with columns of the time step, the Euler's method estimate of the range, and the percentage error in the range by comparison with the analytic formula.\n",
    "\n"
   ]
  },
  {
   "cell_type": "markdown",
   "metadata": {},
   "source": [
    "## _Q10 (Euler method):_\n",
    "### When the value of $\\tau$ is increased by a factor of ten, by what factor does the error change?\n",
    "\n"
   ]
  },
  {
   "cell_type": "markdown",
   "metadata": {},
   "source": [
    "## _Q11 (Euler method):_\n",
    "### Briefly outline the relevant argument for how the global error is predicted to scale with $\\tau$; complete your answer with a brief statement about why the predicted scaling with $\\tau$ is consistent with your results.\n",
    "\n"
   ]
  },
  {
   "cell_type": "markdown",
   "metadata": {},
   "source": []
  },
  {
   "cell_type": "markdown",
   "metadata": {},
   "source": []
  },
  {
   "cell_type": "markdown",
   "metadata": {},
   "source": []
  }
 ],
 "metadata": {
  "kernelspec": {
   "display_name": "Python 3",
   "language": "python",
   "name": "python3"
  },
  "language_info": {
   "codemirror_mode": {
    "name": "ipython",
    "version": 3
   },
   "file_extension": ".py",
   "mimetype": "text/x-python",
   "name": "python",
   "nbconvert_exporter": "python",
   "pygments_lexer": "ipython3",
   "version": "3.11.1"
  }
 },
 "nbformat": 4,
 "nbformat_minor": 2
}
