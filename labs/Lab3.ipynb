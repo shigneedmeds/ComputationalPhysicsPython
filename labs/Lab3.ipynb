{
 "cells": [
  {
   "cell_type": "markdown",
   "id": "6bb6c58f",
   "metadata": {},
   "source": [
    "# Solving the Simple Pendulum with Velocity-Verlet: Lab 3 Solutions"
   ]
  },
  {
   "cell_type": "code",
   "execution_count": 3,
   "id": "44c76a25",
   "metadata": {},
   "outputs": [],
   "source": [
    "import numpy as np\n",
    "import matplotlib.pyplot as plt\n",
    "import matplotlib.animation as animation\n",
    "\n",
    "def rhs_pend(x):\n",
    "    \"\"\"\n",
    "    rhs_pend: Evaluate the right hand side of the coupled (non-\n",
    "        dimensional) ODEs describing the nonlinear pendulum\n",
    "    \n",
    "    ---INPUT:\n",
    "    x - the current value of the dependent variable. For the pendulum\n",
    "        ODEs x = [theta omega] where theta is the angle and omega is the\n",
    "        angular velocity.\n",
    "        \n",
    "    ---OUTPUT:\n",
    "    rhs - a row vector representing the value of the right hand side\n",
    "        of the ODEs. Specifically, rhs=[omega -4*pi^2*sin(theta)].\n",
    "    -------------------------------------------------------------------------------\n",
    "    \"\"\"\n",
    "    \n",
    "    rhs = np.zeros(2)\n",
    "    \n",
    "    theta = x[0];\n",
    "    omega = x[1];\n",
    "    rhs[0] = omega;\n",
    "    rhs[1] = -4*np.pi**2*np.sin(theta)\n",
    "    \n",
    "    return rhs"
   ]
  },
  {
   "cell_type": "code",
   "execution_count": 4,
   "id": "7c668846",
   "metadata": {},
   "outputs": [],
   "source": [
    "def kepler_analytic(vel,T):\n",
    "\n",
    "    #-------------------------------------------------------------------------------\n",
    "    # Calculate the analytic trajectory for the Kepler central force problem.\n",
    "    # Assumes an initial position r = (1,0), v = (0,vel).\n",
    "    #-------------------------------------------------------------------------------\n",
    "    # INPUTS:\n",
    "    # - vel: the initial speed.\n",
    "    # - T: sets an upper limit for |theta| for the e > 1 case (plot up to the\n",
    "    #        integration time).\n",
    "    #-------------------------------------------------------------------------------\n",
    "\n",
    "    # Calculate trajectory from analytic solution\n",
    "\n",
    "    ecc = np.linalg.norm(vel)**2 - 1        # Eccentricity\n",
    "    a = 1/(1 - ecc)                         # Semi-major axis\n",
    "\n",
    "    if ecc < 1:\n",
    "\n",
    "        theta = np.linspace(0, 2*np.pi, 50) # Equally spaced values from 0 to 2*pi\n",
    "        b = a * np.sqrt(1 - ecc**2)\n",
    "        xan = -a * ecc + a * np.cos(theta)\n",
    "        yan =  b * np.sin(theta)\n",
    "\n",
    "    else:\n",
    "\n",
    "        b = a * np.sqrt(ecc**2 - 1)\n",
    "        theta_max = np.asinh(np.linsalg.norm(vel) * T/b) # Limit for range of theta\n",
    "        that = np.linspace( -theta_max, theta_max, 50)\n",
    "        xan = - a * ecc + a * np.cosh(theta)\n",
    "        yan =   b * np.sinh(theta)\n",
    "\n",
    "    return xan, yan"
   ]
  },
  {
   "cell_type": "markdown",
   "id": "c20803f6",
   "metadata": {},
   "source": [
    "## <span style=\"color:red\">Q1</span>\n",
    "### Modify the code so that it also plots $\\theta$ versus $t.$ Run the code and produce $\\theta$ versus $t$ plots for numerical integrations from $t=0$ to $t=7$ with time steps $\\tau=0.01,\\,0.1,\\,0.2,\\,1,$ and with initial angles $\\theta_1=10,\\,45,\\,90,\\,170\\,{\\rm deg}.$\n",
    "\n",
    "For which time steps, and which initial angles, is the numerical solution *reasonably accurate*?"
   ]
  },
  {
   "cell_type": "markdown",
   "id": "0d55a270",
   "metadata": {},
   "source": [
    "We find accurate solution for $\\tau$ = 0.01, 0.2, but inaccurate solutions for $\\tau$ = 0.2, 1."
   ]
  },
  {
   "cell_type": "markdown",
   "id": "bf20b234",
   "metadata": {},
   "source": [
    "## <span style=\"color:red\">Q2</span>\n",
    "### There is some subjectivity in how you deﬁne whether a numerical solution is “reasonably accurate”.\n",
    "\n",
    "Which of the following could be a valid way of determining whether a numerical solution of pendulum motion is accurate? "
   ]
  },
  {
   "cell_type": "markdown",
   "id": "e27a13ed",
   "metadata": {},
   "source": [
    "## <span style=\"color:red\">Q3</span>\n",
    "### Velocity-Verlet Method for Pendulum Dynamics\n",
    "\n",
    "Velocity-Verlet is the variant of the Verlet method introduced in Lecture 2. For the general dynamics problem Velocity-Verlet may be written:\n",
    "\n",
    "$${\\bf r}_{n+1}={\\bf r}_n+\\tau {\\bf v}_{n}+\\frac{1}{2}\\tau^2{\\bf a}_n$$\n",
    "\n",
    "and\n",
    "\n",
    "$$ {\\bf v}_{n+1}= {\\bf v}_n+\\tfrac{1}{2}\\tau\\left({\\bf a}_n+{\\bf a}_{n+1}\\right).$$\n",
    "\n",
    "Using your RK4 method as a starting point, create new Python code which solves the pendulum problem using Velocity-Verlet instead of fourth-order Runge-Kutta.\n",
    "\n",
    "*Hints*: Note that, for the pendulum ODEs the correspondence with the dynamics equations for 1-D motion with position $x$ and velocity $v$ is:\n",
    "\n",
    "$$ x\\quad \\Leftrightarrow \\quad \\theta, $$\n",
    "$$v=\\frac{dx}{dt}\\quad \\Leftrightarrow \\quad \\omega=\\frac{d\\theta}{dt}, $$\n",
    "$$a=\\frac{dv}{dt}\\quad \\Leftrightarrow \\quad \\alpha = \\frac{d\\omega}{dt}=-4\\pi^2\\sin\\theta.$$\n",
    "\n",
    "Hence the Velocity-Verlet updates for the pendulum are:\n",
    "\n",
    "$$ \\theta_{n+1}=\\theta_n+\\tau \\omega_{n}+\\tfrac{1}{2}\\tau^2\\alpha_n$$\n",
    "\n",
    "and\n",
    "\n",
    "$$\\omega_{n+1}= \\omega_n+\\frac{1}{2}\\tau\\left(\\alpha_n+\\alpha_{n+1}\\right),$$\n",
    "\n",
    "where $\\alpha_n=-4\\pi^2\\sin\\theta_n.$\n",
    "\n",
    "When you have your Velocity-Verlet code for the pendulum problem working, repeat the calculations from 1, placing an A (accurate) or I (inaccurate) in each place in the table below:\n",
    "\n",
    " $\\theta_1=10$ deg $\\theta_1=45$ deg $\\theta_1=90$ deg $\\theta_1=170$ deg $\\tau=0.01$        \n",
    "$\\tau=0.1$\n",
    "       $\\tau=0.2$         $\\tau=1$        \n",
    "\n",
    "Compare your table to the one you generated above for RK4. You will notice that there is a one entry that is accurate for VV but inaccurate for RK4:\n",
    "Compared to RK4 (which gave an inaccurate solution), the VV method is more accurate for $\\tau = 0.2$."
   ]
  },
  {
   "cell_type": "markdown",
   "id": "65d93218",
   "metadata": {},
   "source": [
    "Compared to RK4, we find slightly more accurate solutions for $\\tau = 0.2$, particularly for low initial angles, $\\theta_1$: VV maintains a more constant amplitude (and hence energy) than RK4 (although the period is more distorted relative to the RK4 solution). As an example, Figure 2 shows the results for the different time steps for $\\theta_1 = 90°$. The case $\\tau = 0.2$ has an increasing amplitude with time, and the case $\\tau = 1$ has a rapidly increasing amplitude."
   ]
  },
  {
   "cell_type": "markdown",
   "id": "c36c00fb",
   "metadata": {},
   "source": [
    "## <span style=\"color:red\">Q4</span>\n",
    "### We know that RK4 is more accurate than Velocity-Verlet in each single step, but that how much of an advantage does it give it for this simple pendulum problem?"
   ]
  },
  {
   "cell_type": "markdown",
   "id": "ad20b645",
   "metadata": {},
   "source": [
    "# Solving the Kepler problem with RK4\n",
    "## <span style=\"color:red\">Q5</span>\n",
    "\n",
    "### How well does RK4 perform on the circular motion test case (initial vector ${\\bf x}=[1,0,0,1]$), with the default time step ($\\tau=0.05$)?"
   ]
  },
  {
   "cell_type": "markdown",
   "id": "7de55ad7",
   "metadata": {},
   "source": [
    "The integration appears to be quite accurate for the circular motion test case with the default time step, τ = 0.05: the analytic trajectory is followed closely, and the variation in energy is small (≈ $10^{-7}$)."
   ]
  },
  {
   "cell_type": "markdown",
   "id": "a07b4cc4",
   "metadata": {},
   "source": [
    "## <span style=\"color:red\">Q6</span>\n",
    "\n",
    "### Apply the RK4 scheme to simulate a highly eccentric case (v₁ = 0.3).\n",
    " \n",
    "Step through orders of magnitude (e.g., τ = 0.05, 0.005, ...) to identify an estimate of the largest time step, τ, which yields a reasonably accurate orbit."
   ]
  },
  {
   "cell_type": "code",
   "execution_count": 24,
   "id": "91b965ef",
   "metadata": {},
   "outputs": [
    {
     "data": {
      "text/plain": [
       "<matplotlib.legend.Legend at 0x16c6a4e90>"
      ]
     },
     "execution_count": 24,
     "metadata": {},
     "output_type": "execute_result"
    }
   ],
   "source": [
    "tau_values = [0.00005, 0.0005, 0.005, 0.05] \n",
    "\n",
    "# Set up figure \n",
    "fig, ax = plt.subplots(1,4, figsize=(15,4))\n",
    "\n",
    "for i in range(4):\n",
    "    \n",
    "    \n",
    "    pos_x, pos_y, time, energy = rk4_kepler(tau_values[i], 0.3)\n",
    "\n",
    "    ax[i].plot(pos_x, pos_y, '--g', lw=3, label=\"RK4 method\" if i==3 else None)\n",
    "    ax[i].plot(0, 0, 'ko', markersize=10, label=\"Center\" if i==3 else None)\n",
    "    ax[i].tick_params(labelsize=15)\n",
    "    ax[i].set_ylim(-2, 2)\n",
    "    ax[i].set_xlabel(\"x position\", fontsize=18)\n",
    "    ax[i].set_title(f\"tau = {tau_values[i]}\")\n",
    "    \n",
    "\n",
    "ax[0].set_ylabel(\"y position\", fontsize=18)\n",
    "ax[3].legend(fontsize=10)\n"
   ]
  },
  {
   "cell_type": "markdown",
   "id": "b45bbe2d",
   "metadata": {},
   "source": [
    "## <span style=\"color:red\">Q7</span>\n",
    "\n",
    "Apply the RK4 scheme to simulate a highly eccentric initial condition, $\\mathbf{x}=[1,0,0,0.3]$, from Question 6.\n"
   ]
  },
  {
   "cell_type": "markdown",
   "id": "32c99c90",
   "metadata": {},
   "source": [
    "## <span style=\"color:red\">Q8</span>\n",
    "\n",
    "Summarize the comparison of RK4 to the Verlet method on the Kepler problem."
   ]
  },
  {
   "cell_type": "markdown",
   "id": "645e121d",
   "metadata": {},
   "source": [
    "## <span style=\"color:red\">Answer</span>\n",
    "\n",
    "The two methods have different advantages: RK4 is a bit more accurate for a given time step,\n",
    "but Verlet conserves energy over an orbit."
   ]
  },
  {
   "cell_type": "code",
   "execution_count": null,
   "id": "935d317f",
   "metadata": {},
   "outputs": [],
   "source": []
  }
 ],
 "metadata": {
  "kernelspec": {
   "display_name": "CompPhys",
   "language": "python",
   "name": "python3"
  },
  "language_info": {
   "codemirror_mode": {
    "name": "ipython",
    "version": 3
   },
   "file_extension": ".py",
   "mimetype": "text/x-python",
   "name": "python",
   "nbconvert_exporter": "python",
   "pygments_lexer": "ipython3",
   "version": "3.12.9"
  }
 },
 "nbformat": 4,
 "nbformat_minor": 5
}
