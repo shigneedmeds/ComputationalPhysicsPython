{
 "cells": [
  {
   "cell_type": "markdown",
   "id": "6ff66271",
   "metadata": {},
   "source": [
    "# The Verlet method applied to the Kepler problem: Lab 2"
   ]
  },
  {
   "cell_type": "code",
   "execution_count": 8,
   "id": "f9a590d5",
   "metadata": {},
   "outputs": [],
   "source": [
    "import numpy as np\n",
    "import matplotlib.pyplot as plt\n",
    "import matplotlib.animation as animation\n",
    "from tqdm import tqdm\n",
    "\n",
    "def kepler_analytic(vel,T):\n",
    "\n",
    "    #-------------------------------------------------------------------------------\n",
    "    # Calculate the analytic trajectory for the Kepler central force problem.\n",
    "    # Assumes an initial position r = (1,0), v = (0,vel).\n",
    "    #-------------------------------------------------------------------------------\n",
    "    # INPUTS:\n",
    "    # - vel: the initial speed.\n",
    "    # - T: sets an upper limit for |theta| for the e > 1 case (plot up to the\n",
    "    #        integration time).\n",
    "    #-------------------------------------------------------------------------------\n",
    "\n",
    "    # Calculate trajectory from analytic solution\n",
    "\n",
    "    ecc = np.linalg.norm(vel)**2 - 1        # Eccentricity\n",
    "    a = 1/(1 - ecc)                         # Semi-major axis\n",
    "\n",
    "    if ecc < 1:\n",
    "\n",
    "        theta = np.linspace(0, 2*np.pi, 50) # Equally spaced values from 0 to 2*pi\n",
    "        b = a * np.sqrt(1 - ecc**2)\n",
    "        xan = -a * ecc + a * np.cos(theta)\n",
    "        yan =  b * np.sin(theta)\n",
    "\n",
    "    else:\n",
    "\n",
    "        b = a * np.sqrt(ecc**2 - 1)\n",
    "        theta_max = np.arcsinh(np.linalg.norm(vel) * T/b) # Limit for range of theta\n",
    "        theta = np.linspace( -theta_max, theta_max, 50)\n",
    "        xan = - a * ecc + a * np.cosh(theta)\n",
    "        yan =   b * np.sinh(theta)\n",
    "\n",
    "    return xan, yan\n"
   ]
  },
  {
   "cell_type": "markdown",
   "id": "9e47f9cd",
   "metadata": {},
   "source": [
    "## <span style=\"color:red\">Q1</span>\n",
    "### Run the code for the initial non-dimensional velocities \\($v_1$ = 0.3, 0.9, 1, 1.2, 1.3, 1.5\\). For the first case you will need to reduce the time step from the default value (\\$\\tau$=0.05\\, in non-dimensional units) to obtain a reasonably accurate integration. It may be helpful to consider changes in the time step through factors of 5 or 10. What are some valid indicators that your results are accurate?"
   ]
  },
  {
   "cell_type": "markdown",
   "id": "6089b31f",
   "metadata": {},
   "source": [
    "## <span style=\"color:red\">Q2</span>\n",
    "### Obtain accurate orbits for the cases  \\($v_1$=0.3, 0.9, 1, 1.2, 1.3, 1.5\\).\n",
    "\n",
    "\n",
    "\n",
    "\n",
    "Match each case with the most accurate description of its orbit.\n",
    "\n",
    "\n",
    "\n",
    "\n",
    "Note that the 'near' focus refers to being nearer the initial condition and a 'far' focus refers to one farther from the initial condition."
   ]
  },
  {
   "cell_type": "markdown",
   "id": "0c9f40b7",
   "metadata": {},
   "source": [
    "## <span style=\"color:red\">Q3</span>\n",
    "### Without changing the numerical integration, modify Verlet method code to store the speed and the distance from the Sun at each time step as a vector, in the same way that the code stores the energy at each time step.\n",
    "\n",
    "\n",
    "For the initial conditions `r_1=[1,0]`, and `v_1=[0,0.7]`\n",
    "together with the total integration time `T=10` and time step `tau=0.01`, plot the speed and distance as a function of time.\n",
    "\n",
    "\n",
    "Notice the distance from the sun at which the speed is a maximum/minimum.\n",
    "\n",
    "\n",
    "Produce a single plot with your results, save it as an image, and upload it below."
   ]
  },
  {
   "cell_type": "markdown",
   "id": "91d3f337",
   "metadata": {},
   "source": [
    "## <span style=\"color:red\">Q4</span>\n",
    "### Use the min and max functions to compute the ratio of the maximum to the minimum speed, and the ratio of the maximum to the minimum distance, for your results for Part 3 above.\n",
    "\n",
    "\n",
    "You should find that \n",
    "$$\\frac{v_{\\rm max}}{v_{\\rm min}}=\\frac{r_{\\rm max}}{r_{\\rm min}}.$$\n",
    "\n",
    "If you do not find this, there is an error in your code.\n",
    "\n",
    "What is the ratio \n",
    "$$R=\\frac{v_{\\rm max}}{v_{\\rm min}}=\\frac{r_{\\rm max}}{r_{\\rm min}}?$$\n"
   ]
  },
  {
   "cell_type": "markdown",
   "id": "a295f072",
   "metadata": {},
   "source": [
    "## <span style=\"color:red\">Q5</span>\n",
    "### The angular momentum of the planet or comet is ${\\bf L}={\\bf r}\\times m{\\bf v}$. This quantity is constant during the motion because the force on the planet or comet is radially inwards, which means the torque, $\\tau = {\\bf r} \\times {\\bf F} = 0$.\n",
    " \n",
    "The magnitude of the angular momentum is $L=mvr\\sin\\phi,$ where $\\phi$ is the angle between ${\\bf v}$ and ${\\bf r}$.\n",
    " \n",
    "By considering the angular momentum at perihelion and aphelion (closest and furthest approach from the Sun), prove that\n",
    "$$v_{\\rm max}/v_{\\rm min}=r_{\\rm max}/r_{\\rm min}.$$ \n",
    " \n",
    "**Write a few line proof.**"
   ]
  },
  {
   "cell_type": "markdown",
   "id": "9f400a17",
   "metadata": {},
   "source": [
    "# <span style=\"color:k\">Halley's Comet</span>\n",
    "## <span style=\"color:red\">Q6</span>\n",
    "### Using the analytic solution to the Kepler problem (see the Appendix to the lecture notes from this week), and assuming non-dimensional initial conditions ${\\bf r}_1=(1,0)$, ${\\bf v}_1=(0,v_1)$, determine the value of $v_1$ corresponding to an orbit with $a=17.834$.  \n",
    "\n",
    "Hint: As in the lecture notes, for an elliptical orbit we have eccentricity $e = v_1^2 - 1$ and semi-major axis $a = \\frac{1}{1-e}$.\n",
    "\n",
    "Note: Give your answer for $v_1$ to at least two decimal places below.\n",
    "\n",
    "Hint: It will be helpful to retain your calculation for $v_1$ to full precision to obtain accurate answers for the subsequent calculations (below)."
   ]
  },
  {
   "cell_type": "markdown",
   "id": "d27a2365",
   "metadata": {},
   "source": [
    "## <span style=\"color:red\">Q7</span>\n",
    "### Modify the code Verlet method code to integrate the equations of motion for the initial conditions in 6. Choose a suitable value of $\\tau$ for an accurate numerical solution, and a value of the total integration time $T$ which encompasses one period. (*Note*: You will require a large number of integration steps.)\n",
    " \n",
    "Estimate the non-dimensional period $P$ of the motion based on your numerical results. \n",
    " \n",
    "*Suggestion:* One way to estimate the period is from the plot of total energy versus time. From the Matlab figure, you can identify the period based on the dip in estimated energy associated with closest approach to the Sun (perihelion). \n",
    " \n",
    "**Write your answer as a number (to at least three significant figures).**"
   ]
  },
  {
   "cell_type": "markdown",
   "id": "0a498985",
   "metadata": {},
   "source": [
    "## <span style=\"color:red\">Q8</span>\n",
    "### Convert the non-dimensional period obtained in Question 7, above, into years. How does your result compare with the experimental estimate of between 75-76 years?\n",
    "\n",
    "You should use the values of the constants $1~\\text{au}=1.5\\times 10^{11}$ m, $G = 6.67\\times 10^{-11}$ kg$^{-1}$m$^3$s$^{-2}$, $M_{\\odot}=1.99\\times 10^{30}$ kg.\n",
    "\n",
    "Give a brief comment."
   ]
  }
 ],
 "metadata": {
  "kernelspec": {
   "display_name": "CompPhys",
   "language": "python",
   "name": "python3"
  },
  "language_info": {
   "codemirror_mode": {
    "name": "ipython",
    "version": 3
   },
   "file_extension": ".py",
   "mimetype": "text/x-python",
   "name": "python",
   "nbconvert_exporter": "python",
   "pygments_lexer": "ipython3",
   "version": "3.12.9"
  }
 },
 "nbformat": 4,
 "nbformat_minor": 5
}
